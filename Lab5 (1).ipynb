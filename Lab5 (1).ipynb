{
 "cells": [
  {
   "cell_type": "markdown",
   "metadata": {
    "colab_type": "text",
    "id": "2-LKSTOBciPO"
   },
   "source": [
    "### Laboratory work 5: Fuzzy Numbers\n"
   ]
  },
  {
   "cell_type": "code",
   "execution_count": 104,
   "metadata": {
    "colab": {},
    "colab_type": "code",
    "id": "LZUfuApMcLPd"
   },
   "outputs": [],
   "source": [
    "import numpy as np\n",
    "import matplotlib.pyplot as plt"
   ]
  },
  {
   "cell_type": "code",
   "execution_count": 105,
   "metadata": {},
   "outputs": [
    {
     "data": {
      "text/plain": [
       "(9.399999999999999, 3.4999999999999996)"
      ]
     },
     "execution_count": 105,
     "metadata": {},
     "output_type": "execute_result"
    }
   ],
   "source": [
    "class FuzzyValue():\n",
    "    def __init__(self,val,width):\n",
    "        self.val = float(val)\n",
    "        self.width = float(width)\n",
    "\n",
    "    def __call__(self,x):\n",
    "        buff = ((x-self.val)/self.width)*((x-self.val)/self.width)\n",
    "        return max(0,1-buff)  \n",
    "\n",
    "    def __truediv__(self, o):\n",
    "        # Put your code here\n",
    "        \n",
    "        #  Interval Arithmetic \n",
    "        mina = self.val-self.width\n",
    "        maxa = self.val+self.width\n",
    "        minb = o.val-o.width\n",
    "        maxb = o.val+o.width\n",
    "        maximum = max(mina/minb,mina/maxb,maxa/minb,maxa/maxb)\n",
    "        minimum = min(mina/minb,mina/maxb,maxa/minb,maxa/maxb)\n",
    "        \n",
    "        return (maximum -  minimum)/2+minimum,(maximum -  minimum)/2\n",
    "    def __add__(self, o): \n",
    "        # Put your code here\n",
    "        \n",
    "        # Interval Arithmetic \n",
    "        \n",
    "        minimum = self.val-self.width+o.val-o.width\n",
    "        maximum = self.val+self.width+o.val+o.width\n",
    "        \n",
    "        return (maximum -  minimum)/2+minimum,(maximum -  minimum)/2\n",
    "    \n",
    "a = FuzzyValue(5.1,1.5)\n",
    "b = FuzzyValue(4.3,2)\n",
    "c = a+b\n",
    "c"
   ]
  },
  {
   "cell_type": "code",
   "execution_count": 106,
   "metadata": {},
   "outputs": [
    {
     "data": {
      "text/plain": [
       "[<matplotlib.lines.Line2D at 0x268ab34ea88>]"
      ]
     },
     "execution_count": 106,
     "metadata": {},
     "output_type": "execute_result"
    },
    {
     "data": {
      "image/png": "[encoded data removed]",
      "text/plain": [
       "<Figure size 432x288 with 1 Axes>"
      ]
     },
     "metadata": {
      "needs_background": "light"
     },
     "output_type": "display_data"
    }
   ],
   "source": [
    "c = a+b\n",
    "xs = np.linspace(0,15,num=1000)\n",
    "y = [a(x) for x in xs] \n",
    "summ = FuzzyValue(c[0],c[1])\n",
    "z = [summ(x) for x in xs]\n",
    "plt.plot(xs,z)\n",
    "plt.plot(xs,y)"
   ]
  },
  {
   "cell_type": "code",
   "execution_count": 107,
   "metadata": {},
   "outputs": [
    {
     "data": {
      "text/plain": [
       "[<matplotlib.lines.Line2D at 0x268ab456e48>]"
      ]
     },
     "execution_count": 107,
     "metadata": {},
     "output_type": "execute_result"
    },
    {
     "data": {
      "image/png": "[encoded data removed]",
      "text/plain": [
       "<Figure size 432x288 with 1 Axes>"
      ]
     },
     "metadata": {
      "needs_background": "light"
     },
     "output_type": "display_data"
    }
   ],
   "source": [
    "c = a/b\n",
    "xs = np.linspace(0,15,num=1000)\n",
    "y = [a(x) for x in xs] \n",
    "summ = FuzzyValue(c[0],c[1])\n",
    "z = [summ(x) for x in xs]\n",
    "plt.plot(xs,z,'r')\n",
    "plt.plot(xs,y,'b')"
   ]
  },
  {
   "cell_type": "code",
   "execution_count": null,
   "metadata": {},
   "outputs": [],
   "source": []
  },
  {
   "cell_type": "code",
   "execution_count": 101,
   "metadata": {
    "colab": {
     "base_uri": "https://localhost:8080/",
     "height": 50
    },
    "colab_type": "code",
    "id": "v8F6CuBUcDnl",
    "outputId": "7b9f687c-64c9-4754-82f2-8708996ce6fe"
   },
   "outputs": [],
   "source": [
    "class FuzzyValue():\n",
    "    def __init__(self,val,width):\n",
    "        self.val = float(val)\n",
    "        self.width = float(width)\n",
    "\n",
    "    def __call__(self,x):\n",
    "        buff = ((x-self.val)/self.width)*((x-self.val)/self.width)\n",
    "        return max(0,1-buff)  \n",
    "\n",
    "    def __truediv__(self, o):\n",
    "      # Put your code here\n",
    "        mu = []\n",
    "        \n",
    "        minimum = min(self.val-self.width,o.val-o.width)\n",
    "        maximum = max(self.val+self.width,o.val+o.width)\n",
    "        \n",
    "        xs = np.linspace(minimum,maximum,num=1000)\n",
    "        \n",
    "        a = FuzzyValue(self.val,self.width)\n",
    "        b = FuzzyValue(o.val,o.width)\n",
    "        \n",
    "        ya = [a(x) for x in xs]\n",
    "        yb = [b(x) for x in xs]\n",
    "        \n",
    "        for i in ya:\n",
    "            mum = []\n",
    "            for j in yb:\n",
    "                if j == 0:\n",
    "                    mum.append(0)\n",
    "                else:\n",
    "                    mum.append(i/j)\n",
    "            mu.append(max(mum))\n",
    "        return mu,xs\n",
    "\n",
    "    def __add__(self, o): \n",
    "      # Put your code here\n",
    "        mu = []\n",
    "        \n",
    "        minimum = min(self.val-self.width,o.val-o.width)\n",
    "        maximum = max(self.val+self.width,o.val+o.width)\n",
    "        \n",
    "        xs = np.linspace(minimum,maximum,num=1000)\n",
    "        \n",
    "        a = FuzzyValue(self.val,self.width)\n",
    "        b = FuzzyValue(o.val,o.width)\n",
    "        \n",
    "        ya = [a(x) for x in xs]\n",
    "        yb = [b(x) for x in xs]\n",
    "        \n",
    "        for i in ya:\n",
    "            mum = []\n",
    "            for j in yb:\n",
    "                mum.append(i+j)\n",
    "            mu.append(max(mum))\n",
    "        return mu,xs\n",
    "\n",
    "a = FuzzyValue(5.1,1.5)\n",
    "b = FuzzyValue(4.3,2)\n"
   ]
  },
  {
   "cell_type": "code",
   "execution_count": 102,
   "metadata": {
    "colab": {
     "base_uri": "https://localhost:8080/",
     "height": 282
    },
    "colab_type": "code",
    "id": "dAb_qAfQcSsd",
    "outputId": "ec0c3a33-3128-4487-93d9-b2dd3c9be11d"
   },
   "outputs": [
    {
     "data": {
      "text/plain": [
       "[<matplotlib.lines.Line2D at 0x268ab425bc8>]"
      ]
     },
     "execution_count": 102,
     "metadata": {},
     "output_type": "execute_result"
    },
    {
     "data": {
      "image/png": "[encoded data removed]",
      "text/plain": [
       "<Figure size 432x288 with 1 Axes>"
      ]
     },
     "metadata": {
      "needs_background": "light"
     },
     "output_type": "display_data"
    }
   ],
   "source": [
    "xs = np.linspace(-7,7,num=1000)\n",
    "#a = FuzzyValue(0,3)\n",
    "#print(a+b)\n",
    "#print(a/b)\n",
    "c = a/b\n",
    "plt.plot(c[1],c[0])"
   ]
  },
  {
   "cell_type": "code",
   "execution_count": 103,
   "metadata": {},
   "outputs": [
    {
     "data": {
      "text/plain": [
       "[<matplotlib.lines.Line2D at 0x268ab481f48>]"
      ]
     },
     "execution_count": 103,
     "metadata": {},
     "output_type": "execute_result"
    },
    {
     "data": {
      "image/png": "[encoded data removed]",
      "text/plain": [
       "<Figure size 432x288 with 1 Axes>"
      ]
     },
     "metadata": {
      "needs_background": "light"
     },
     "output_type": "display_data"
    }
   ],
   "source": [
    "c = a+b\n",
    "y = [a(x) for x in c[1]] \n",
    "\n",
    "plt.plot(c[1],c[0])"
   ]
  },
  {
   "cell_type": "code",
   "execution_count": null,
   "metadata": {},
   "outputs": [],
   "source": []
  }
 ],
 "metadata": {
  "colab": {
   "name": "Lab5.ipynb",
   "provenance": []
  },
  "kernelspec": {
   "display_name": "Python 3",
   "language": "python",
   "name": "python3"
  },
  "language_info": {
   "codemirror_mode": {
    "name": "ipython",
    "version": 3
   },
   "file_extension": ".py",
   "mimetype": "text/x-python",
   "name": "python",
   "nbconvert_exporter": "python",
   "pygments_lexer": "ipython3",
   "version": "3.7.5"
  }
 },
 "nbformat": 4,
 "nbformat_minor": 1
}
