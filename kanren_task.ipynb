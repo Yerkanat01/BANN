{
 "cells": [
  {
   "cell_type": "markdown",
   "metadata": {},
   "source": [
    "Каждому кораблю — в свой порт\n",
    "В порте пять кораблей.\n",
    "1. Греческий корабль отчаливает в шесть. Он везет кофе.\n",
    "2. У корабля, который в середине — черная труба.\n",
    "3. Английский корабль отплывает в девять.\n",
    "4. Французский корабль, у которого синяя труба, пришвартован слева от корабля, который везет кофе.\n",
    "5. Справа от корабля, на котором груз какао, корабль, который плывет в Марсель.\n",
    "6. Корабль под бразильским флагом направляется на Манилы.\n",
    "7. Рядом с кораблем, на котором рис, — корабль с зеленой трубой.\n",
    "8. Корабль, плывущий в Геную, отходит в пять.\n",
    "9. Испанский корабль отплывает в семь и находится справа от корабля, плывущего в Марсель.\n",
    "10. Корабль с красной трубой направляется в Гамбург.\n",
    "11. Рядом с кораблем, который отчаливает в семь, корабль с белой трубой.\n",
    "12. На крайнем корабле — зерно.\n",
    "13. Корабль с черной трубой отплывает в восемь.\n",
    "14. Корабль с зерном пришвартован рядом с кораблем, на котором груз риса.\n",
    "15. Корабль, следующий до Гамбурга, отчаливает в 6.\n",
    "Вопрос:\n",
    "Который корабль плывет в Порт-Саид? Который гружен чаем?"
   ]
  },
  {
   "cell_type": "code",
   "execution_count": 39,
   "metadata": {},
   "outputs": [],
   "source": [
    "from kanren import *\n",
    "from kanren.core import lall"
   ]
  },
  {
   "cell_type": "code",
   "execution_count": 40,
   "metadata": {},
   "outputs": [],
   "source": [
    "def left(q, p, list):\n",
    "    return membero((q,p), zip(list, list[1:]))\n",
    "\n",
    "def next(q, p, list):\n",
    "    return conde([left(q, p, list)], [left(p, q, list)])"
   ]
  },
  {
   "cell_type": "code",
   "execution_count": 41,
   "metadata": {},
   "outputs": [],
   "source": [
    "houses = var()"
   ]
  },
  {
   "cell_type": "code",
   "execution_count": 42,
   "metadata": {},
   "outputs": [],
   "source": [
    "rules_zebraproblem = lall(\n",
    "    (eq, (var(), var(), var(), var(), var()), houses),\n",
    "    #Греческий корабль отчаливает в шесть. Он везет кофе.\n",
    "    (membero,('Greek',  '6', 'coffee', var(), var()), houses),\n",
    "    #У корабля, который в середине — черная труба.\n",
    "    (eq,(var(), var(), (var(), var(), var(),'black', var()), var(), var()), houses),\n",
    "    #Английский корабль отплывает в девять.\n",
    "    (membero,('Enland','9' ,var(), var(), var()), houses),\n",
    "    #Французский корабль, у которого синяя труба, пришвартован слева от корабля, который везет кофе.\n",
    "    (left,('France', var(), var(),'blue', var()),(var(), var(), 'coffee', var(), var()), houses),\n",
    "    #Справа от корабля, на котором груз какао, корабль, который плывет в Марсель.\n",
    "    (left,(var(), var(), 'cacao', var(), var()),(var(), var(), var(), var(), 'Marseille'),houses),\n",
    "    #Корабль под бразильским флагом направляется на Манилы.\n",
    "    (membero,('Brazile', var(), var(), var(), 'Manila'), houses),\n",
    "    #Рядом с кораблем, на котором рис, — корабль с зеленой трубой.\n",
    "    (next,(var(), var(), 'Oryza', var(), var()), (var(), var(), var(),'green' ,var()), houses),\n",
    "    #Корабль, плывущий в Геную, отходит в пять.\n",
    "    (membero,(var(),'5',var(), var(),'Genoa'), houses),\n",
    "    #Испанский корабль отплывает в семь и находится справа от корабля, плывущего в Марсель.\n",
    "    (left, (var(), var(), var(), var(), 'Marseille'),('Spain','7' ,var(), var(), var()), houses),\n",
    "    #Корабль с красной трубой направляется в Гамбург.\n",
    "    (membero,(var(), var(),var(),'red' ,'Hamburg'), houses),\n",
    "    #Рядом с кораблем, который отчаливает в семь, корабль с белой трубой.\n",
    "    (next,(var(),'7' ,var(), var(), var()), (var(), var(), var(),'white' ,var()), houses),\n",
    "    #На крайнем корабле — зерно.\n",
    "    (eq,(var(), var(),  var(), var(),(var(), var(), 'Grain', var(), var())), houses),\n",
    "    #Корабль с черной трубой отплывает в восемь.\n",
    "    (membero,(var(),'8' ,var(), 'black', var()), houses),\n",
    "    #Корабль с зерном пришвартован рядом с кораблем, на котором груз риса.\n",
    "    (next,(var() ,var(),'Grain', var(), var()), (var(), var(),'Oryza', var() ,var()), houses),\n",
    "    #Корабль, следующий до Гамбурга, отчаливает в 6. Вопрос: Который корабль плывет в Порт-Саид? Который гружен чаем?\n",
    "    (membero,(var(), '6',var() ,var(),'Hamburg'), houses),\n",
    "    (membero,(var(), var(), var(), var(),'Port Said'), houses),    \n",
    "    (membero,(var(), var(), 'tea', var(), var()), houses)\n",
    ")"
   ]
  },
  {
   "cell_type": "code",
   "execution_count": 43,
   "metadata": {},
   "outputs": [],
   "source": [
    "solutions = run(0, houses, rules_zebraproblem)"
   ]
  },
  {
   "cell_type": "code",
   "execution_count": 44,
   "metadata": {},
   "outputs": [
    {
     "data": {
      "text/plain": [
       "((('France', '5', 'tea', 'blue', 'Genoa'),\n",
       "  ('Greek', '6', 'coffee', 'red', 'Hamburg'),\n",
       "  ('Brazile', '8', 'cacao', 'black', 'Manila'),\n",
       "  ('Enland', '9', 'Oryza', 'white', 'Marseille'),\n",
       "  ('Spain', '7', 'Grain', 'green', 'Port Said')),)"
      ]
     },
     "execution_count": 44,
     "metadata": {},
     "output_type": "execute_result"
    }
   ],
   "source": [
    "solutions"
   ]
  },
  {
   "cell_type": "code",
   "execution_count": null,
   "metadata": {},
   "outputs": [],
   "source": []
  }
 ],
 "metadata": {
  "kernelspec": {
   "display_name": "Python 3",
   "language": "python",
   "name": "python3"
  },
  "language_info": {
   "codemirror_mode": {
    "name": "ipython",
    "version": 3
   },
   "file_extension": ".py",
   "mimetype": "text/x-python",
   "name": "python",
   "nbconvert_exporter": "python",
   "pygments_lexer": "ipython3",
   "version": "3.7.5"
  }
 },
 "nbformat": 4,
 "nbformat_minor": 4
}
